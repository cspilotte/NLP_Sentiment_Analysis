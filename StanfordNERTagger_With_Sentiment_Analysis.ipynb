{
 "cells": [
  {
   "cell_type": "code",
   "execution_count": 1,
   "metadata": {},
   "outputs": [
    {
     "name": "stderr",
     "output_type": "stream",
     "text": [
      "C:\\Users\\cpilo\\Hello\\lib\\site-packages\\pandas\\core\\computation\\expressions.py:20: UserWarning: Pandas requires version '2.7.3' or newer of 'numexpr' (version '2.7.1' currently installed).\n",
      "  from pandas.core.computation.check import NUMEXPR_INSTALLED\n"
     ]
    }
   ],
   "source": [
    "import numpy as np\n",
    "import pandas as pd\n",
    "from urllib.request import urlopen\n",
    "from bs4 import BeautifulSoup\n",
    "import time"
   ]
  },
  {
   "cell_type": "code",
   "execution_count": 2,
   "metadata": {},
   "outputs": [],
   "source": [
    "#Here we will we looking at a way we can use the stanford NER Tagger to help improve the afinn sentiment analysis algorithm.\n",
    "#The afinn algorithm scores text by scanning and checking for words in the afinn lexicon. This algorithm works best on \n",
    "#smaller segments of text so we will score the article at the sentence level. In this example I will grade the sentiment\n",
    "#of the Baltimore Ravens and the Houston Texans.\n",
    "url = 'https://www.forbes.com/betting/nfl/texans-ravens-week-1-23/'\n",
    "html = urlopen(url)\n",
    "soup = BeautifulSoup(html)"
   ]
  },
  {
   "cell_type": "code",
   "execution_count": 3,
   "metadata": {},
   "outputs": [
    {
     "data": {
      "text/plain": [
       "['Game DetailsWho: Houston Texans at Baltimore RavensWhen: Thursday, Sep',\n",
       " ' 10 (Week 1)Time: 1:00 p',\n",
       " 'm',\n",
       " ' ETWhere: M&T Bank Stadium (Baltimore, MD)Betting Odds SummarySpread: Texans +9 (-110), Ravens -9 (-110)Moneyline: Texans +330, Ravens -410Total: Over/Under 44',\n",
       " '5 (-110/-110)Note: Odds from DraftKings Sportsbook',\n",
       " ' Subject to change',\n",
       " 'The Baltimore Ravens will kick off their quest for a Super Bowl championship at home in Week 1 against the Houston Texans',\n",
       " ' Kickoff from M&T Bank Stadium is scheduled for 1:00 p',\n",
       " 'm',\n",
       " ' ET and can be seen on CBS',\n",
       " 'Baltimore drew a good card from the NFL’s schedule makers by receiving Houston to begin the season',\n",
       " ' The Texans are expected to be one of the worst teams in the league again as they begin their rebuild under new head coach DeMeco Ryans',\n",
       " '\\xa0Every major offseason storyline for the Ravens revolved around quarterback Lamar Jackson',\n",
       " ' Jackson entered free agency following the conclusion of the 2022 season, and his destination seemed cloudy',\n",
       " ' Jackson was trying to set the market for his position, which caused some tension between him and the organization as negotiations dragged on',\n",
       " 'At the end of the day, Jackson got what he wanted',\n",
       " ' The former MVP re-signed with Baltimore for a five-year contract worth $260 million, making him the highest-paid player in league history',\n",
       " '\\xa0The Ravens’ new offensive coordinator Todd Monken will look to use every ounce of Jackson’s athleticism to find success in 2023',\n",
       " ' Baltimore also beefed up its receiving corps by signing Odell Beckham Jr',\n",
       " ' in free agency and drafting Zay Flowers from Boston College, giving Jackson more weapons to work with and reducing the team’s reliance on the ground game',\n",
       " 'The Ravens’ defense will try to stop rookie quarterback C',\n",
       " 'J',\n",
       " ' Stroud in the season opener',\n",
       " ' Houston selected Stroud with the second overall pick in the 2023 NFL Draft out of Ohio State and is hoping he can be the quarterback of the future',\n",
       " 'Assuming he wins the starting job and is healthy enough to suit up, this will be Stroud’s first career NFL start',\n",
       " 'Moneyline: Texans vs',\n",
       " ' Ravens Week 1Baltimore is a heavy moneyline favorite in this matchup for a reason',\n",
       " ' The Ravens are stronger than the Texans in nearly every facet of the game and have one of the best quarterbacks in the NFL',\n",
       " ' They are the superior team and also have home-field advantage',\n",
       " 'As of this writing, Baltimore has -410 odds to win outright on DraftKings Sportsbook, which means a bettor must risk $410 just to win $100',\n",
       " ' That isn’t worth it, especially in Week 1 when there are still unknowns on both sides',\n",
       " 'With a new head coach and a new quarterback, Houston is a major wild card in this matchup',\n",
       " ' The Texans’ lack of experience will likely show against the battle-tested Ravens, who have won a Super Bowl under John Harbaugh and are coming off four playoff appearances in their last five seasons',\n",
       " 'If you want to bet a straight moneyline and have the money for a worthy payout, take Baltimore at -410, although this bet would be better used as a leg in a parlay rather than as a straight bet',\n",
       " '\\xa0Spread: Texans vs',\n",
       " ' RavensBecause the moneyline market is so juiced, there is more value to be had on the spread',\n",
       " ' The nine-point spread in favor of the Ravens may seem like a difficult number to lay, though, because it requires Baltimore to win by two scores',\n",
       " '\\xa0Don’t be scared of this line, however, as the Ravens only need to win by a touchdown and a field goal to cover',\n",
       " ' In fact, the spread will likely creep up to 10 points as we approach kickoff in September',\n",
       " '\\xa0Baltimore is poised to have its best offense in years following its offseason upgrades',\n",
       " ' The Ravens are usually a strong defensive team as well, giving up the third-fewest points and ninth-fewest yards per game last season',\n",
       " 'Houston, on the other hand, is abysmal on both sides of the ball',\n",
       " ' The Texans ranked 30th out of 32 in points scored last year and 27th in points allowed, so they’ll have a hard time keeping up with Baltimore',\n",
       " ' They also lost seven games by double digits last year, so they’re no stranger to lopsided defeats',\n",
       " '\\xa0Houston has much to prove before it can be trusted in the betting markets, even as a large underdog against the spread',\n",
       " 'Over/Under Total: Texans vs',\n",
       " ' RavensThe over/under is currently set at 44',\n",
       " '5 points, which is a standard total in the NFL',\n",
       " ' The Under tends to be a theme early in the season as it typically takes offenses longer to develop than defenses',\n",
       " '\\xa0Jackson and co',\n",
       " ' shouldn’t have much trouble scoring against the Texans’ shaky defense, but we don’t believe Houston will score a lot of points after averaging just 17',\n",
       " '0 per game last year',\n",
       " ' Stroud will likely make a few costly mistakes as well that will leave points on the board for the offensively-challenged Texans',\n",
       " 'Accordingly, our favorite play for this matchup is under 44',\n",
       " '5 points',\n",
       " '\\xa0What Could Cause Odds Shifts?A few factors could cause the odds to shift for this opening matchup between Houston and Baltimore',\n",
       " '\\xa0Odds are currently based on last season’s performance and team expectations, but they could shift somewhat during the preseason',\n",
       " ' Injuries to key players would likely cause the biggest swing, especially if a star player like Jackson becomes unavailable',\n",
       " ' Jackson’s been injury-prone in the past, and losing him would likely knock the spread down a few points',\n",
       " 'The odds could also change based on preseason performance, especially that of the Texans',\n",
       " ' If Stroud looks good and appears ready for the NFL, that could make Houston less of an underdog',\n",
       " ' If he struggles and looks overmatched, however, the opposite may happen',\n",
       " 'Either way, the odds for this game are unlikely to change much because the Ravens are so much better than the Texans in all areas',\n",
       " ' We may see some minor shifts in either direction, but overall, Baltimore should still be heavily favored',\n",
       " '']"
      ]
     },
     "execution_count": 3,
     "metadata": {},
     "output_type": "execute_result"
    }
   ],
   "source": [
    "x = soup.getText().split('Betting Matchup Preview')[1]\n",
    "x1 = x.split('\\n\\n\\n\\n\\n\\n\\n\\n\\n\\n\\n\\n\\n\\n\\n\\n')[0]\n",
    "x1 = x1.replace('\\n', '')\n",
    "sentence_split = x1.split('.')\n",
    "sentence_split"
   ]
  },
  {
   "cell_type": "code",
   "execution_count": 4,
   "metadata": {},
   "outputs": [
    {
     "name": "stderr",
     "output_type": "stream",
     "text": [
      "[nltk_data] Downloading package punkt to\n",
      "[nltk_data]     C:\\Users\\cpilo\\AppData\\Roaming\\nltk_data...\n",
      "[nltk_data]   Package punkt is already up-to-date!\n"
     ]
    },
    {
     "data": {
      "text/plain": [
       "True"
      ]
     },
     "execution_count": 4,
     "metadata": {},
     "output_type": "execute_result"
    }
   ],
   "source": [
    "#import StanfordNERTagger\n",
    "from nltk.tag import StanfordNERTagger\n",
    "from nltk.tokenize import word_tokenize\n",
    "import nltk\n",
    "import os\n",
    "java_path = r\"C:\\Program Files\\Java\\jdk1.8.0_152\\bin\\java.exe\"\n",
    "os.environ['JAVAHOME'] = java_path\n",
    "nltk.download('punkt')"
   ]
  },
  {
   "cell_type": "code",
   "execution_count": 5,
   "metadata": {},
   "outputs": [],
   "source": [
    "PATH_TO_JAR=r\"C:\\Users\\cpilo\\Downloads\\stanford-ner-4.2.0\\stanford-ner-2020-11-17\\stanford-ner-4.2.0.jar\"\n",
    "PATH_TO_MODEL = r\"C:\\Users\\cpilo\\Downloads\\stanford-ner-4.2.0\\stanford-ner-2020-11-17\\classifiers\\english.all.3class.distsim.crf.ser.gz\"\n",
    "st = StanfordNERTagger(PATH_TO_MODEL,\n",
    "                       PATH_TO_JAR,\n",
    "                       encoding='utf-8')\n"
   ]
  },
  {
   "cell_type": "code",
   "execution_count": 6,
   "metadata": {},
   "outputs": [],
   "source": [
    "#We import our afinn function to score our sentences\n",
    "from afinn import Afinn\n",
    "afn = Afinn()"
   ]
  },
  {
   "cell_type": "code",
   "execution_count": 7,
   "metadata": {},
   "outputs": [
    {
     "data": {
      "text/html": [
       "<div>\n",
       "<style scoped>\n",
       "    .dataframe tbody tr th:only-of-type {\n",
       "        vertical-align: middle;\n",
       "    }\n",
       "\n",
       "    .dataframe tbody tr th {\n",
       "        vertical-align: top;\n",
       "    }\n",
       "\n",
       "    .dataframe thead th {\n",
       "        text-align: right;\n",
       "    }\n",
       "</style>\n",
       "<table border=\"1\" class=\"dataframe\">\n",
       "  <thead>\n",
       "    <tr style=\"text-align: right;\">\n",
       "      <th></th>\n",
       "      <th>Subject</th>\n",
       "      <th>Score</th>\n",
       "      <th>Sentence</th>\n",
       "    </tr>\n",
       "  </thead>\n",
       "  <tbody>\n",
       "    <tr>\n",
       "      <th>0</th>\n",
       "      <td>[Houston, Texans]</td>\n",
       "      <td>0.0</td>\n",
       "      <td>Game DetailsWho: Houston Texans at Baltimore R...</td>\n",
       "    </tr>\n",
       "    <tr>\n",
       "      <th>1</th>\n",
       "      <td>[]</td>\n",
       "      <td>0.0</td>\n",
       "      <td>10 (Week 1)Time: 1:00 p</td>\n",
       "    </tr>\n",
       "    <tr>\n",
       "      <th>2</th>\n",
       "      <td>[]</td>\n",
       "      <td>0.0</td>\n",
       "      <td>m</td>\n",
       "    </tr>\n",
       "    <tr>\n",
       "      <th>3</th>\n",
       "      <td>[Ravens]</td>\n",
       "      <td>0.0</td>\n",
       "      <td>ETWhere: M&amp;T Bank Stadium (Baltimore, MD)Bett...</td>\n",
       "    </tr>\n",
       "    <tr>\n",
       "      <th>4</th>\n",
       "      <td>[]</td>\n",
       "      <td>0.0</td>\n",
       "      <td>5 (-110/-110)Note: Odds from DraftKings Sports...</td>\n",
       "    </tr>\n",
       "    <tr>\n",
       "      <th>...</th>\n",
       "      <td>...</td>\n",
       "      <td>...</td>\n",
       "      <td>...</td>\n",
       "    </tr>\n",
       "    <tr>\n",
       "      <th>60</th>\n",
       "      <td>[]</td>\n",
       "      <td>3.0</td>\n",
       "      <td>If Stroud looks good and appears ready for th...</td>\n",
       "    </tr>\n",
       "    <tr>\n",
       "      <th>61</th>\n",
       "      <td>[]</td>\n",
       "      <td>-2.0</td>\n",
       "      <td>If he struggles and looks overmatched, howeve...</td>\n",
       "    </tr>\n",
       "    <tr>\n",
       "      <th>62</th>\n",
       "      <td>[Ravens]</td>\n",
       "      <td>1.0</td>\n",
       "      <td>Either way, the odds for this game are unlikel...</td>\n",
       "    </tr>\n",
       "    <tr>\n",
       "      <th>63</th>\n",
       "      <td>[]</td>\n",
       "      <td>2.0</td>\n",
       "      <td>We may see some minor shifts in either direct...</td>\n",
       "    </tr>\n",
       "    <tr>\n",
       "      <th>64</th>\n",
       "      <td>[]</td>\n",
       "      <td>0.0</td>\n",
       "      <td></td>\n",
       "    </tr>\n",
       "  </tbody>\n",
       "</table>\n",
       "<p>65 rows × 3 columns</p>\n",
       "</div>"
      ],
      "text/plain": [
       "              Subject  Score  \\\n",
       "0   [Houston, Texans]    0.0   \n",
       "1                  []    0.0   \n",
       "2                  []    0.0   \n",
       "3            [Ravens]    0.0   \n",
       "4                  []    0.0   \n",
       "..                ...    ...   \n",
       "60                 []    3.0   \n",
       "61                 []   -2.0   \n",
       "62           [Ravens]    1.0   \n",
       "63                 []    2.0   \n",
       "64                 []    0.0   \n",
       "\n",
       "                                             Sentence  \n",
       "0   Game DetailsWho: Houston Texans at Baltimore R...  \n",
       "1                             10 (Week 1)Time: 1:00 p  \n",
       "2                                                   m  \n",
       "3    ETWhere: M&T Bank Stadium (Baltimore, MD)Bett...  \n",
       "4   5 (-110/-110)Note: Odds from DraftKings Sports...  \n",
       "..                                                ...  \n",
       "60   If Stroud looks good and appears ready for th...  \n",
       "61   If he struggles and looks overmatched, howeve...  \n",
       "62  Either way, the odds for this game are unlikel...  \n",
       "63   We may see some minor shifts in either direct...  \n",
       "64                                                     \n",
       "\n",
       "[65 rows x 3 columns]"
      ]
     },
     "execution_count": 7,
     "metadata": {},
     "output_type": "execute_result"
    }
   ],
   "source": [
    "ner_objects = []\n",
    "score = [afn.score(i) for i in sentence_split]\n",
    "for i in range(len(sentence_split)):\n",
    "    sentence_subj = []\n",
    "    token_text = word_tokenize(sentence_split[i])\n",
    "    class_text = st.tag(token_text)\n",
    "    #iterate through the classified text\n",
    "    for (x,y) in class_text:\n",
    "        #We are looking at sentences with organizations referring to the texans or ravens\n",
    "        #The tagger should allow us to distiguish between times when Houston/Baltimore refers to the city vs when it refers\n",
    "        #to the organization\n",
    "        if x in ['Ravens', 'Baltimore', 'Houston', 'Texans'] and y == 'ORGANIZATION':\n",
    "            sentence_subj.append(x)\n",
    "    ner_objects.append([sentence_subj, score[i], sentence_split[i]])\n",
    "article_df = pd.DataFrame(ner_objects, columns = ['Subject', 'Score', 'Sentence'])\n",
    "article_df"
   ]
  },
  {
   "cell_type": "code",
   "execution_count": 8,
   "metadata": {},
   "outputs": [
    {
     "data": {
      "text/html": [
       "<div>\n",
       "<style scoped>\n",
       "    .dataframe tbody tr th:only-of-type {\n",
       "        vertical-align: middle;\n",
       "    }\n",
       "\n",
       "    .dataframe tbody tr th {\n",
       "        vertical-align: top;\n",
       "    }\n",
       "\n",
       "    .dataframe thead th {\n",
       "        text-align: right;\n",
       "    }\n",
       "</style>\n",
       "<table border=\"1\" class=\"dataframe\">\n",
       "  <thead>\n",
       "    <tr style=\"text-align: right;\">\n",
       "      <th></th>\n",
       "      <th>Baltimore Ravens</th>\n",
       "      <th>Houston Texans</th>\n",
       "    </tr>\n",
       "  </thead>\n",
       "  <tbody>\n",
       "    <tr>\n",
       "      <th>0</th>\n",
       "      <td>0</td>\n",
       "      <td>0</td>\n",
       "    </tr>\n",
       "    <tr>\n",
       "      <th>1</th>\n",
       "      <td>0</td>\n",
       "      <td>0</td>\n",
       "    </tr>\n",
       "    <tr>\n",
       "      <th>2</th>\n",
       "      <td>0</td>\n",
       "      <td>0</td>\n",
       "    </tr>\n",
       "    <tr>\n",
       "      <th>3</th>\n",
       "      <td>0</td>\n",
       "      <td>0</td>\n",
       "    </tr>\n",
       "    <tr>\n",
       "      <th>4</th>\n",
       "      <td>0</td>\n",
       "      <td>0</td>\n",
       "    </tr>\n",
       "    <tr>\n",
       "      <th>...</th>\n",
       "      <td>...</td>\n",
       "      <td>...</td>\n",
       "    </tr>\n",
       "    <tr>\n",
       "      <th>60</th>\n",
       "      <td>0</td>\n",
       "      <td>0</td>\n",
       "    </tr>\n",
       "    <tr>\n",
       "      <th>61</th>\n",
       "      <td>0</td>\n",
       "      <td>0</td>\n",
       "    </tr>\n",
       "    <tr>\n",
       "      <th>62</th>\n",
       "      <td>1</td>\n",
       "      <td>0</td>\n",
       "    </tr>\n",
       "    <tr>\n",
       "      <th>63</th>\n",
       "      <td>0</td>\n",
       "      <td>0</td>\n",
       "    </tr>\n",
       "    <tr>\n",
       "      <th>64</th>\n",
       "      <td>0</td>\n",
       "      <td>0</td>\n",
       "    </tr>\n",
       "  </tbody>\n",
       "</table>\n",
       "<p>65 rows × 2 columns</p>\n",
       "</div>"
      ],
      "text/plain": [
       "    Baltimore Ravens  Houston Texans\n",
       "0                  0               0\n",
       "1                  0               0\n",
       "2                  0               0\n",
       "3                  0               0\n",
       "4                  0               0\n",
       "..               ...             ...\n",
       "60                 0               0\n",
       "61                 0               0\n",
       "62                 1               0\n",
       "63                 0               0\n",
       "64                 0               0\n",
       "\n",
       "[65 rows x 2 columns]"
      ]
     },
     "execution_count": 8,
     "metadata": {},
     "output_type": "execute_result"
    }
   ],
   "source": [
    "#We can create a state matrix that will have the teams score for each sentence in the article\n",
    "org_state = pd.DataFrame(columns = ['Baltimore Ravens', 'Houston Texans'], index = np.array(range(len(article_df.index)))).fillna(0)\n",
    "for i in org_state.index:\n",
    "    if 'Ravens' in article_df['Subject'][i] or 'Baltimore' in article_df['Subject'][i]:\n",
    "        org_state['Baltimore Ravens'][i] = article_df['Score'][i]\n",
    "    elif 'Houston' in article_df['Subject'][i] or 'Texans' in article_df['Subject'][i]:\n",
    "        org_state['Houston Texans'][i] = article_df['Score'][i]\n",
    "org_state"
   ]
  },
  {
   "cell_type": "code",
   "execution_count": 9,
   "metadata": {},
   "outputs": [
    {
     "name": "stdout",
     "output_type": "stream",
     "text": [
      "Ravens Sentiment:  21   Texans Sentiment:  0\n"
     ]
    }
   ],
   "source": [
    "#Sum to get our team sentiment scores\n",
    "print('Ravens Sentiment: ', np.sum(org_state['Baltimore Ravens']), '  Texans Sentiment: ', np.sum(org_state['Houston Texans']))"
   ]
  },
  {
   "cell_type": "code",
   "execution_count": 10,
   "metadata": {},
   "outputs": [
    {
     "data": {
      "text/html": [
       "<div>\n",
       "<style scoped>\n",
       "    .dataframe tbody tr th:only-of-type {\n",
       "        vertical-align: middle;\n",
       "    }\n",
       "\n",
       "    .dataframe tbody tr th {\n",
       "        vertical-align: top;\n",
       "    }\n",
       "\n",
       "    .dataframe thead th {\n",
       "        text-align: right;\n",
       "    }\n",
       "</style>\n",
       "<table border=\"1\" class=\"dataframe\">\n",
       "  <thead>\n",
       "    <tr style=\"text-align: right;\">\n",
       "      <th></th>\n",
       "      <th>Baltimore Ravens</th>\n",
       "      <th>Houston Texans</th>\n",
       "    </tr>\n",
       "  </thead>\n",
       "  <tbody>\n",
       "    <tr>\n",
       "      <th>0</th>\n",
       "      <td>0</td>\n",
       "      <td>0</td>\n",
       "    </tr>\n",
       "    <tr>\n",
       "      <th>1</th>\n",
       "      <td>0</td>\n",
       "      <td>0</td>\n",
       "    </tr>\n",
       "    <tr>\n",
       "      <th>2</th>\n",
       "      <td>0</td>\n",
       "      <td>0</td>\n",
       "    </tr>\n",
       "    <tr>\n",
       "      <th>3</th>\n",
       "      <td>0</td>\n",
       "      <td>0</td>\n",
       "    </tr>\n",
       "    <tr>\n",
       "      <th>4</th>\n",
       "      <td>0</td>\n",
       "      <td>0</td>\n",
       "    </tr>\n",
       "    <tr>\n",
       "      <th>...</th>\n",
       "      <td>...</td>\n",
       "      <td>...</td>\n",
       "    </tr>\n",
       "    <tr>\n",
       "      <th>60</th>\n",
       "      <td>20</td>\n",
       "      <td>0</td>\n",
       "    </tr>\n",
       "    <tr>\n",
       "      <th>61</th>\n",
       "      <td>20</td>\n",
       "      <td>0</td>\n",
       "    </tr>\n",
       "    <tr>\n",
       "      <th>62</th>\n",
       "      <td>21</td>\n",
       "      <td>0</td>\n",
       "    </tr>\n",
       "    <tr>\n",
       "      <th>63</th>\n",
       "      <td>21</td>\n",
       "      <td>0</td>\n",
       "    </tr>\n",
       "    <tr>\n",
       "      <th>64</th>\n",
       "      <td>21</td>\n",
       "      <td>0</td>\n",
       "    </tr>\n",
       "  </tbody>\n",
       "</table>\n",
       "<p>65 rows × 2 columns</p>\n",
       "</div>"
      ],
      "text/plain": [
       "    Baltimore Ravens  Houston Texans\n",
       "0                  0               0\n",
       "1                  0               0\n",
       "2                  0               0\n",
       "3                  0               0\n",
       "4                  0               0\n",
       "..               ...             ...\n",
       "60                20               0\n",
       "61                20               0\n",
       "62                21               0\n",
       "63                21               0\n",
       "64                21               0\n",
       "\n",
       "[65 rows x 2 columns]"
      ]
     },
     "execution_count": 10,
     "metadata": {},
     "output_type": "execute_result"
    }
   ],
   "source": [
    "#The cumulative sum can allow us to evaluate the sentiment of each subject as a time series throughout the article\n",
    "sentiment_progression = org_state.cumsum()\n",
    "sentiment_progression"
   ]
  },
  {
   "cell_type": "code",
   "execution_count": 11,
   "metadata": {},
   "outputs": [
    {
     "data": {
      "text/plain": [
       "<matplotlib.legend.Legend at 0x16fe640b580>"
      ]
     },
     "execution_count": 11,
     "metadata": {},
     "output_type": "execute_result"
    },
    {
     "data": {
      "image/png": "[encoded data removed]",
      "text/plain": [
       "<Figure size 2400x1200 with 1 Axes>"
      ]
     },
     "metadata": {
      "needs_background": "light"
     },
     "output_type": "display_data"
    }
   ],
   "source": [
    "import matplotlib.pyplot as plt\n",
    "plt.figure(figsize=(16, 8), dpi=150)\n",
    "  \n",
    "#plot our ravens and texans time series sentiment scores\n",
    "sentiment_progression['Baltimore Ravens'].plot(label='Ravens', color='purple')\n",
    "sentiment_progression['Houston Texans'].plot(label='Texans', color = 'red')\n",
    "plt.title('Sentiment of Teams in Forbes Week 1 Preview')\n",
    "plt.xlabel('Sentence Number')\n",
    "plt.legend()"
   ]
  },
  {
   "cell_type": "code",
   "execution_count": null,
   "metadata": {},
   "outputs": [],
   "source": []
  }
 ],
 "metadata": {
  "kernelspec": {
   "display_name": "Python 3",
   "language": "python",
   "name": "python3"
  },
  "language_info": {
   "codemirror_mode": {
    "name": "ipython",
    "version": 3
   },
   "file_extension": ".py",
   "mimetype": "text/x-python",
   "name": "python",
   "nbconvert_exporter": "python",
   "pygments_lexer": "ipython3",
   "version": "3.8.3"
  }
 },
 "nbformat": 4,
 "nbformat_minor": 4
}
